{
 "cells": [
  {
   "cell_type": "markdown",
   "metadata": {},
   "source": [
    "## DrAiveX Day 2: Introduction to Python for Data Engineering"
   ]
  },
  {
   "cell_type": "markdown",
   "metadata": {},
   "source": [
    "### What is Data Engineering and Why is Important\n",
    "\n",
    "_[Definition]_: Data Engineering is the process of converting the raw data from the datsets (CSV, XLS) etc into a form which the AI Model can Understand.\n",
    "\n",
    "AI/ Artificial Intelligence is the Computational use of Statistics. Since Statistics is  mathematical topic, including Numbers, So, Every AI Model, can work only on Numbers.\n"
   ]
  },
  {
   "cell_type": "markdown",
   "metadata": {},
   "source": [
    "### Sounds Cool! How to Convert every data into Numbers?\n",
    "\n",
    "In Data Engineering is not only about representing non-numeric data into numbers, It includes additional important steps like,Data Cleaning, Plotting to find the nature of Data, etc. As the answer of the question, We Represent limited set of Non-Numeric Properties (like Gender, Department in college, etc) as Numbers, like (0/1 for Gender, Set of Natural Numbers as the Departments (0,1,2,3...,n) )"
   ]
  },
  {
   "cell_type": "markdown",
   "metadata": {},
   "source": [
    "## Okay! I get it, but I am too lazy to create a set of rules to, read the data, access the data,  What Do I Do? :3\n",
    "\n",
    "In python there's a lots of libraries that can help you in the process of Data Engineering,and Normalizing. Two of the famous ones are (We wil use use them extensively):\n",
    "* Numpy (Numeric Python, To handle matrix calculations, so that you don't have to worry about the Algorithms behind it)\n",
    "* Pandas (To Handle filtering, Normalizing, reading/writing to/from widely used dataset formats like CSV, XLS files)"
   ]
  },
  {
   "cell_type": "markdown",
   "metadata": {},
   "source": [
    "### OMG !! I don't know Python!! What to Do??\n",
    "\n",
    "Well, My friend, Python is a very _Funny Language_ (Quoting from Bol Bachhan, Haha!!). It is easy to use, hassle free code, and anyone can understand Python, if they got a basic logical sense, and knows a bit of english.\n",
    "\n",
    "Even the Hello world of Python is so easy!!"
   ]
  },
  {
   "cell_type": "code",
   "execution_count": 1,
   "metadata": {
    "collapsed": false
   },
   "outputs": [
    {
     "name": "stdout",
     "output_type": "stream",
     "text": [
      "Hello World!\n"
     ]
    }
   ],
   "source": [
    "print(\"Hello World!\")"
   ]
  },
  {
   "cell_type": "markdown",
   "metadata": {},
   "source": [
    "See?? No extra lines of Stuffs, and so much intutive!\n",
    "If you guys know, Basic C programming, You will remember those notorious symbols like `;`, `{`. Well, in python,\n",
    "\n",
    "##### We Don't have it here!!\n",
    "And To Symbolize  Block, you just need to provide a Tab or some spaces to align the code, and creating blocks like it was done in `{` in C. _(Even There's not `int`, `float`, `char` datatypes, Pyhton is smart enough to understand the datatype. ;) )_ **Okay!** Enough, Chit Chat, Let me show you. "
   ]
  },
  {
   "cell_type": "code",
   "execution_count": 2,
   "metadata": {
    "collapsed": false
   },
   "outputs": [
    {
     "name": "stdout",
     "output_type": "stream",
     "text": [
      "Even\n"
     ]
    }
   ],
   "source": [
    "a= 10\n",
    "if a %2 ==0:\n",
    "    print(\"Even\")\n",
    "else:\n",
    "    print(\"Odd\")"
   ]
  },
  {
   "cell_type": "markdown",
   "metadata": {},
   "source": [
    "You only need to know these to get started to your data science career! Rest you can learn as you go! **PS :Don't tell anyone.. I did this approach myself.. haha!**"
   ]
  },
  {
   "cell_type": "markdown",
   "metadata": {},
   "source": [
    "And through out your Python Career if you come across some Functions, Classes, you don't know, You can always open help from the python interpreter."
   ]
  },
  {
   "cell_type": "code",
   "execution_count": 3,
   "metadata": {
    "collapsed": false
   },
   "outputs": [
    {
     "name": "stdout",
     "output_type": "stream",
     "text": [
      "Help on built-in function hex in module __builtin__:\n",
      "\n",
      "hex(...)\n",
      "    hex(number) -> string\n",
      "    \n",
      "    Return the hexadecimal representation of an integer or long integer.\n",
      "\n"
     ]
    }
   ],
   "source": [
    "# For example, if you don't know about hex function in python\n",
    "help(hex)"
   ]
  },
  {
   "cell_type": "markdown",
   "metadata": {},
   "source": [
    "Just like in C/C++ we can write comments in the code, so that, it is easy for third person to read the code.\n",
    "Similar to every language, Comment doesn't get executed and python interpreter overlooks comment, as if they were not even present!\n",
    "** SO How do we write a comment? **"
   ]
  },
  {
   "cell_type": "code",
   "execution_count": 4,
   "metadata": {
    "collapsed": false
   },
   "outputs": [
    {
     "name": "stdout",
     "output_type": "stream",
     "text": [
      "Hello There!\n"
     ]
    }
   ],
   "source": [
    "# HI! I'm a Comment! I don't get executed. I'm so lonely, no one (except the humans) cares about my existence :(\n",
    "print(\"Hello There!\")"
   ]
  },
  {
   "cell_type": "markdown",
   "metadata": {},
   "source": [
    "# Pandas (Part 1)\n"
   ]
  },
  {
   "cell_type": "markdown",
   "metadata": {},
   "source": [
    "To install pandas from Jupyter Notebook, run the cell below (Press Ctrl-Enter while in the Cell)"
   ]
  },
  {
   "cell_type": "code",
   "execution_count": 5,
   "metadata": {
    "collapsed": false
   },
   "outputs": [
    {
     "name": "stdout",
     "output_type": "stream",
     "text": [
      "Requirement already satisfied: pandas in /usr/local/lib/python2.7/dist-packages (0.23.3)\n",
      "Requirement already satisfied: pytz>=2011k in /usr/lib/python2.7/dist-packages (from pandas) (2012rc0)\n",
      "Requirement already satisfied: python-dateutil>=2.5.0 in /usr/local/lib/python2.7/dist-packages (from pandas) (2.7.3)\n",
      "Requirement already satisfied: numpy>=1.9.0 in /usr/local/lib/python2.7/dist-packages (from pandas) (1.15.0)\n",
      "Requirement already satisfied: six>=1.5 in /usr/local/lib/python2.7/dist-packages (from python-dateutil>=2.5.0->pandas) (1.11.0)\n",
      "Requirement already satisfied: xlrd in /usr/lib/python2.7/dist-packages (0.9.2)\n"
     ]
    }
   ],
   "source": [
    "! pip install pandas\n",
    "! pip install xlrd #For reading excel Data"
   ]
  },
  {
   "cell_type": "markdown",
   "metadata": {},
   "source": [
    "#### That was easy right?? ;)\n",
    "Moving right along, Let's see how to open dataset files using pandas."
   ]
  },
  {
   "cell_type": "code",
   "execution_count": 6,
   "metadata": {
    "collapsed": false
   },
   "outputs": [
    {
     "name": "stderr",
     "output_type": "stream",
     "text": [
      "/usr/local/lib/python2.7/dist-packages/pandas/_libs/__init__.py:4: RuntimeWarning: numpy.dtype size changed, may indicate binary incompatibility. Expected 96, got 88\n",
      "  from .tslib import iNaT, NaT, Timestamp, Timedelta, OutOfBoundsDatetime\n",
      "/usr/local/lib/python2.7/dist-packages/pandas/__init__.py:26: RuntimeWarning: numpy.dtype size changed, may indicate binary incompatibility. Expected 96, got 88\n",
      "  from pandas._libs import (hashtable as _hashtable,\n",
      "/usr/local/lib/python2.7/dist-packages/pandas/core/dtypes/common.py:6: RuntimeWarning: numpy.dtype size changed, may indicate binary incompatibility. Expected 96, got 88\n",
      "  from pandas._libs import algos, lib\n",
      "/usr/local/lib/python2.7/dist-packages/pandas/core/util/hashing.py:7: RuntimeWarning: numpy.dtype size changed, may indicate binary incompatibility. Expected 96, got 88\n",
      "  from pandas._libs import hashing, tslib\n",
      "/usr/local/lib/python2.7/dist-packages/pandas/core/indexes/base.py:7: RuntimeWarning: numpy.dtype size changed, may indicate binary incompatibility. Expected 96, got 88\n",
      "  from pandas._libs import (lib, index as libindex, tslib as libts,\n",
      "/usr/local/lib/python2.7/dist-packages/pandas/tseries/offsets.py:21: RuntimeWarning: numpy.dtype size changed, may indicate binary incompatibility. Expected 96, got 88\n",
      "  import pandas._libs.tslibs.offsets as liboffsets\n",
      "/usr/local/lib/python2.7/dist-packages/pandas/core/ops.py:16: RuntimeWarning: numpy.dtype size changed, may indicate binary incompatibility. Expected 96, got 88\n",
      "  from pandas._libs import algos as libalgos, ops as libops\n",
      "/usr/local/lib/python2.7/dist-packages/pandas/core/indexes/interval.py:32: RuntimeWarning: numpy.dtype size changed, may indicate binary incompatibility. Expected 96, got 88\n",
      "  from pandas._libs.interval import (\n",
      "/usr/local/lib/python2.7/dist-packages/pandas/core/internals.py:14: RuntimeWarning: numpy.dtype size changed, may indicate binary incompatibility. Expected 96, got 88\n",
      "  from pandas._libs import internals as libinternals\n",
      "/usr/local/lib/python2.7/dist-packages/pandas/core/sparse/array.py:33: RuntimeWarning: numpy.dtype size changed, may indicate binary incompatibility. Expected 96, got 88\n",
      "  import pandas._libs.sparse as splib\n",
      "/usr/local/lib/python2.7/dist-packages/pandas/core/window.py:36: RuntimeWarning: numpy.dtype size changed, may indicate binary incompatibility. Expected 96, got 88\n",
      "  import pandas._libs.window as _window\n",
      "/usr/local/lib/python2.7/dist-packages/pandas/core/groupby/groupby.py:68: RuntimeWarning: numpy.dtype size changed, may indicate binary incompatibility. Expected 96, got 88\n",
      "  from pandas._libs import (lib, reduction,\n",
      "/usr/local/lib/python2.7/dist-packages/pandas/core/reshape/reshape.py:30: RuntimeWarning: numpy.dtype size changed, may indicate binary incompatibility. Expected 96, got 88\n",
      "  from pandas._libs import algos as _algos, reshape as _reshape\n",
      "/usr/local/lib/python2.7/dist-packages/pandas/io/parsers.py:45: RuntimeWarning: numpy.dtype size changed, may indicate binary incompatibility. Expected 96, got 88\n",
      "  import pandas._libs.parsers as parsers\n",
      "/usr/local/lib/python2.7/dist-packages/pandas/io/pytables.py:50: RuntimeWarning: numpy.dtype size changed, may indicate binary incompatibility. Expected 96, got 88\n",
      "  from pandas._libs import algos, lib, writers as libwriters\n"
     ]
    }
   ],
   "source": [
    "# lets call pandas in the code at first ( Like #include in C/C++ )\n",
    "import pandas as pd\n",
    "# import calls the library pandas we installed previously. we could've written import pandas but then if we had\n",
    "# to use anything from pandas library, we needed to callit as pandas.function() but we are lazy right? ;)\n",
    "# so we used the as keyword of python which sets a nickname (alias) for pandas, pd. so, that next time we call\n",
    "# anything, we can call it as pd.function() instead of pandas.function()\n",
    "# Easy right ;)\n",
    "\n",
    "\n",
    "#variable1=pd.read_csv(\"test.csv\") If you have a .csv file, use this\n",
    "variable1=pd.read_excel(\"titanic3.xls\")"
   ]
  },
  {
   "cell_type": "markdown",
   "metadata": {},
   "source": [
    " #### Congrats! You have successfully read the titanic3.xls file"
   ]
  },
  {
   "cell_type": "markdown",
   "metadata": {},
   "source": [
    "find more about `read_csv` file, by typing this out in a code cell / Python interpreter:\n",
    "```python\n",
    "help(pd.read_csv)\n",
    "```\n",
    "`variable1` in above code is called **DataFrame** according to Pandas Convention.\n",
    "\n",
    "Now let's see, what kind of dataset we have got, let's see some of the top entries (In this case top 10 entries)"
   ]
  },
  {
   "cell_type": "code",
   "execution_count": 7,
   "metadata": {
    "collapsed": false
   },
   "outputs": [
    {
     "name": "stdout",
     "output_type": "stream",
     "text": [
      "   pclass  survived                                             name     sex  \\\n",
      "0       1         1                    Allen, Miss. Elisabeth Walton  female   \n",
      "1       1         1                   Allison, Master. Hudson Trevor    male   \n",
      "2       1         0                     Allison, Miss. Helen Loraine  female   \n",
      "3       1         0             Allison, Mr. Hudson Joshua Creighton    male   \n",
      "4       1         0  Allison, Mrs. Hudson J C (Bessie Waldo Daniels)  female   \n",
      "5       1         1                              Anderson, Mr. Harry    male   \n",
      "6       1         1                Andrews, Miss. Kornelia Theodosia  female   \n",
      "7       1         0                           Andrews, Mr. Thomas Jr    male   \n",
      "8       1         1    Appleton, Mrs. Edward Dale (Charlotte Lamson)  female   \n",
      "9       1         0                          Artagaveytia, Mr. Ramon    male   \n",
      "\n",
      "       age  sibsp  parch    ticket      fare    cabin embarked boat   body  \\\n",
      "0  29.0000      0      0     24160  211.3375       B5        S    2    NaN   \n",
      "1   0.9167      1      2    113781  151.5500  C22 C26        S   11    NaN   \n",
      "2   2.0000      1      2    113781  151.5500  C22 C26        S  NaN    NaN   \n",
      "3  30.0000      1      2    113781  151.5500  C22 C26        S  NaN  135.0   \n",
      "4  25.0000      1      2    113781  151.5500  C22 C26        S  NaN    NaN   \n",
      "5  48.0000      0      0     19952   26.5500      E12        S    3    NaN   \n",
      "6  63.0000      1      0     13502   77.9583       D7        S   10    NaN   \n",
      "7  39.0000      0      0    112050    0.0000      A36        S  NaN    NaN   \n",
      "8  53.0000      2      0     11769   51.4792     C101        S    D    NaN   \n",
      "9  71.0000      0      0  PC 17609   49.5042      NaN        C  NaN   22.0   \n",
      "\n",
      "                         home.dest  \n",
      "0                     St Louis, MO  \n",
      "1  Montreal, PQ / Chesterville, ON  \n",
      "2  Montreal, PQ / Chesterville, ON  \n",
      "3  Montreal, PQ / Chesterville, ON  \n",
      "4  Montreal, PQ / Chesterville, ON  \n",
      "5                     New York, NY  \n",
      "6                       Hudson, NY  \n",
      "7                      Belfast, NI  \n",
      "8              Bayside, Queens, NY  \n",
      "9              Montevideo, Uruguay  \n"
     ]
    }
   ],
   "source": [
    "print(variable1.head(10)) # printing top n=10 entries"
   ]
  },
  {
   "cell_type": "markdown",
   "metadata": {},
   "source": [
    "That's cool! Now it's time to look at different properties of data. That might help us identify some deeper meaning from the data, helping us to engineer the data properly.\n",
    "### But, I AM LAZY! I don't wanna write any code to find out those stuffs! What to Do?\n",
    "Well, my friend, I am lazy too! and pandas knows it very well! haha! So, it has provided this extremely important function, that can give us all those nerdy stuffs, we want!"
   ]
  },
  {
   "cell_type": "code",
   "execution_count": 8,
   "metadata": {
    "collapsed": false
   },
   "outputs": [
    {
     "name": "stdout",
     "output_type": "stream",
     "text": [
      "            pclass     survived          age        sibsp        parch  \\\n",
      "count  1309.000000  1309.000000  1046.000000  1309.000000  1309.000000   \n",
      "mean      2.294882     0.381971    29.881135     0.498854     0.385027   \n",
      "std       0.837836     0.486055    14.413500     1.041658     0.865560   \n",
      "min       1.000000     0.000000     0.166700     0.000000     0.000000   \n",
      "25%       2.000000     0.000000    21.000000     0.000000     0.000000   \n",
      "50%       3.000000     0.000000    28.000000     0.000000     0.000000   \n",
      "75%       3.000000     1.000000    39.000000     1.000000     0.000000   \n",
      "max       3.000000     1.000000    80.000000     8.000000     9.000000   \n",
      "\n",
      "              fare        body  \n",
      "count  1308.000000  121.000000  \n",
      "mean     33.295479  160.809917  \n",
      "std      51.758668   97.696922  \n",
      "min       0.000000    1.000000  \n",
      "25%       7.895800   72.000000  \n",
      "50%      14.454200  155.000000  \n",
      "75%      31.275000  256.000000  \n",
      "max     512.329200  328.000000  \n"
     ]
    }
   ],
   "source": [
    "print(variable1.describe())"
   ]
  },
  {
   "cell_type": "markdown",
   "metadata": {},
   "source": [
    "See! Easy right? Okay now the most important question, you might have.\n",
    "### Okay, I get it. Pandas is cool, But how can I get the data that pandas is showing for further manipulation?\n",
    "\n",
    "Well, my friend, that's why we are here!\n",
    "But First Let's get some introduction to Python List and Dictionary ** The Pandas Story is not over yet! **\n",
    "If you know about Python List and Dictionary."
   ]
  },
  {
   "cell_type": "markdown",
   "metadata": {},
   "source": [
    "# Python List and Dictionary"
   ]
  },
  {
   "cell_type": "markdown",
   "metadata": {},
   "source": [
    "As we all know, to store any data we need a variable. **But Wait!** if there are thousands of same **type** of data,\n",
    "** DO WE NEED TO DECLARE THOUSANDS OF VARIABLES?? ARRGH!!!!**\n",
    "Well, haha! That's not the case, Python have something called **List**, Similar to arrays in C/C++ pr whatever language you have seen yet.\n",
    "_[Def]_: List is a kind of Varible which can store a lot of data in a single variable, **With No Limitations** of the **Datatype** of the content data. (Which was in the case of C/C++/C#/Java Arrays).\n",
    "List a collection of data which can store any type of data together!  (People with Java Background, It's simialar to ArrayList in Java Collections)\n",
    "\n",
    "_**Example**_:"
   ]
  },
  {
   "cell_type": "code",
   "execution_count": 9,
   "metadata": {
    "collapsed": false
   },
   "outputs": [
    {
     "name": "stdout",
     "output_type": "stream",
     "text": [
      "<type 'list'>\n",
      "<type 'str'>\n",
      "<type 'int'>\n",
      "<class 'pandas.core.frame.DataFrame'>\n"
     ]
    }
   ],
   "source": [
    "variable2=[\"Adrish\", 1234, variable1]\n",
    "# Here \"Adrish is a String, 1234 is a number (int) and variable is a pandas DataFrame Object\n",
    "# But our List can store them all!\n",
    "print(type(variable2)) # <class 'list'>\n",
    "# lists like arrays have zero-base indexing, where 0 represents 1st element, 1 represents 2nd element etc.\n",
    "print(type(variable2[0])) # <class 'str'>\n",
    "print(type(variable2[1])) # <class 'int'>\n",
    "print(type(variable2[2])) # <class 'pandas.core.frame.DataFrame'>`"
   ]
  },
  {
   "cell_type": "markdown",
   "metadata": {},
   "source": [
    "### Well, Adrish, I couldn't follow the Comments and I need a better description of Python List. What are those numbers in the 3rd brackets!\n",
    "They are indexes of element in the list.\n",
    "Okay, let me show you an example:\n",
    "Let `a` be a python list.\n",
    "```python\n",
    "a = [1, 2, 3, 4]\n",
    "```\n",
    "This list is represented in the memory as:\n",
    "```sh\n",
    "[   1    |   2    |    3     |   4   ]\n",
    "    ^        ^         ^         ^\n",
    "    0        1         2         3      <--- Hello! We are indexes!\n",
    "```\n",
    "A computer alway starts counting from 0, so, the position of the 1st element of the list is 0, 2nd element is 1 etc.\n",
    "and when we say `a[0]` we are asking python to give us the element from the list `a` which is located at position 0"
   ]
  },
  {
   "cell_type": "markdown",
   "metadata": {},
   "source": [
    "### Python Dictionary\n",
    "Whenever I talk about dictionary, What comes to your mind?? For me, It's the Oxford Pocket Dictionary, I have (It has been a life saver you know!, Haha!)\n",
    "\n",
    "so, what happens in that oxford pocket dictionary? We search for the word and we get all the syntactical and symantical information we need to know about the word.\n",
    "So, if I ask you, how will you implement that in any language??\n",
    "\n",
    "I am sure, many will tell that we will save the Words in an Array and We will save the meanings in other arrays, and we will use the indexes to match them.\n",
    "The word at 0th position of the array1 will have it's meaning in array2 in the same 0th position, so on and so forth.\n",
    "**OR**\n",
    "you can use python dictionaries!\n",
    " ** Okay, HOW??**\n",
    " python dictionaries looks like this:\n",
    "```python \n",
    " \n",
    " dictionary = {\"cat\":\"A cute furry animal, which loves humans\", \"dog\":\"4 legged mammal, which are cute when small and bold when grows older.\"}\n",
    " \n",
    " ```\n",
    " \n",
    " **Okay, I get it, but how to access the descriptions of the word \"cat\" ?**\n",
    " \n",
    " Well, my friend, it's so damn easy!\n",
    " \n",
    " ```python\n",
    " \n",
    " print(dictionary[\"cat\"])\n",
    " ```"
   ]
  },
  {
   "cell_type": "code",
   "execution_count": 10,
   "metadata": {
    "collapsed": false
   },
   "outputs": [
    {
     "name": "stdout",
     "output_type": "stream",
     "text": [
      "A cute furry animal, which loves humans\n"
     ]
    }
   ],
   "source": [
    "dictionary = {\"cat\":\"A cute furry animal, which loves humans\", \"dog\":\"4 legged mammal, which are cute when small and bold when grows older.\"}\n",
    "print(dictionary[\"cat\"])"
   ]
  },
  {
   "cell_type": "markdown",
   "metadata": {},
   "source": [
    "# Pandas (Continued)"
   ]
  },
  {
   "cell_type": "markdown",
   "metadata": {},
   "source": [
    "### How to access data from Pandas DataFrame?\n",
    "Pandas DataFrame Provides a similar access technique as Dictionary and List Combined.\n",
    "The Pandas DataFrame is like a Matrix, with rows and columns. \n",
    "We need to pass the name of the column and the row number to get the data.\n",
    "the syntax is:\n",
    "`dataFrame[<Column Name>][<ROw Number>]`"
   ]
  },
  {
   "cell_type": "code",
   "execution_count": 11,
   "metadata": {
    "collapsed": false
   },
   "outputs": [
    {
     "name": "stdout",
     "output_type": "stream",
     "text": [
      "     Name Stream Sex Section\n",
      "0  Adrish    CSE   M       B\n",
      "1  Soumit    CSE   M       A\n",
      "2  Shahid    CSE   M       A\n",
      "3   Soham    CSE   M       A\n",
      "4   Ayush    ECE   M       A\n",
      "\n",
      "\n",
      "\n",
      "\n",
      "\n",
      "Adrish\n"
     ]
    }
   ],
   "source": [
    "test_df=pd.read_csv(\"test.csv\")\n",
    "print(test_df)\n",
    "print(\"\\n\"*4)\n",
    "print(test_df[\"Name\"][0]) # Print the First Name from the CSV file"
   ]
  },
  {
   "cell_type": "markdown",
   "metadata": {},
   "source": [
    "**NOTE:**\n",
    "The example works perfectly, If the columns are given a name. Ase we saw the Columns are accessed by passing the name of the column and the number of the row.**However**, if there are no column header, we need to tell`pd.read_csv` explicitly, that there are no headers, otherwise, it will consider, the first entry as header."
   ]
  },
  {
   "cell_type": "code",
   "execution_count": 12,
   "metadata": {
    "collapsed": false
   },
   "outputs": [
    {
     "name": "stdout",
     "output_type": "stream",
     "text": [
      "   Adrish  CSE  M  B\n",
      "0  Soumit  CSE  M  A\n",
      "1  Shahid  CSE  M  A\n",
      "2   Soham  CSE  M  A\n",
      "3   Ayush  ECE  M  A\n",
      "\n",
      "\n",
      "\n",
      "\n",
      "\n",
      "('1st Column:', 0    Soumit\n",
      "1    Shahid\n",
      "2     Soham\n",
      "3     Ayush\n",
      "Name: Adrish, dtype: object)\n"
     ]
    }
   ],
   "source": [
    "# For example\n",
    "test_df=pd.read_csv(\"no_header.csv\")\n",
    "print(test_df)\n",
    "print(\"\\n\"*4)\n",
    "print(\"1st Column:\",test_df['Adrish'])"
   ]
  },
  {
   "cell_type": "markdown",
   "metadata": {},
   "source": [
    "As you can see, the first element, \"Adrish\" is now considered as column name, which is np=ot what we want, right?\n",
    "In such cases, we need to pass `pd.read_csv()` another _parameter_, `header=None`"
   ]
  },
  {
   "cell_type": "code",
   "execution_count": 13,
   "metadata": {
    "collapsed": false
   },
   "outputs": [
    {
     "name": "stdout",
     "output_type": "stream",
     "text": [
      "        0    1  2  3\n",
      "0  Adrish  CSE  M  B\n",
      "1  Soumit  CSE  M  A\n",
      "2  Shahid  CSE  M  A\n",
      "3   Soham  CSE  M  A\n",
      "4   Ayush  ECE  M  A\n",
      "\n",
      "\n",
      "\n",
      "\n",
      "\n",
      "('1st Column: ', 0    Adrish\n",
      "1    Soumit\n",
      "2    Shahid\n",
      "3     Soham\n",
      "4     Ayush\n",
      "Name: 0, dtype: object)\n"
     ]
    }
   ],
   "source": [
    "test_df=pd.read_csv(\"no_header.csv\",header=None)\n",
    "print(test_df)\n",
    "print(\"\\n\"*4)\n",
    "print(\"1st Column: \", test_df[0])"
   ]
  },
  {
   "cell_type": "markdown",
   "metadata": {},
   "source": [
    "Okay, now we want something more:\n",
    "Let's find out some more stuffs about pandas.\n",
    "To find the maximum/ minimum value of a column:\n",
    "there's a function, called `max()/min()` respectively which can help us with that.\n",
    "\n",
    "** Now, How to use it?? **\n",
    "\n",
    "`dataFrame[<column name>].max()`"
   ]
  },
  {
   "cell_type": "code",
   "execution_count": 14,
   "metadata": {
    "collapsed": false
   },
   "outputs": [
    {
     "name": "stdout",
     "output_type": "stream",
     "text": [
      "Maximum:  80.0\n",
      "Minimum:  0.1667\n"
     ]
    }
   ],
   "source": [
    "print \"Maximum: \",variable1['age'].max()\n",
    "print \"Minimum: \",variable1['age'].min()"
   ]
  },
  {
   "cell_type": "markdown",
   "metadata": {},
   "source": [
    "## Finding Collection of Data from the DataFrame, which staisfies some given condition\n",
    "Here we will see how to get a list of Rows from the DataFrame, whose column satisfies a specific condition.\n",
    "\n",
    "** Adrish! That went tangential to my head! Can you rephrase?**\n",
    "\n",
    "For Example, in the dataset we are using, titanic passenger dataset, let us assume, we want to know how many of the passengers are alive. According to the dataset, we want to know the **Name and Age** of the people, whose survival column have value =1\n",
    "How to do that??\n",
    "\n",
    "** PS: Being a Lazy Person, I don't want write the code which will loop thtough all the Rows and print those columns which have survive==1 **\n",
    "\n",
    "Hmm.... What to do now??"
   ]
  },
  {
   "cell_type": "markdown",
   "metadata": {},
   "source": [
    "Luckily, Pandas Knows we are **lazy** so it provided this awesome feature, to solve this kind of problem.\n",
    "\n",
    "```python\n",
    "dataFrame[<column_name(s)_ to_fetch>][<condition>]\n",
    "```\n",
    "**Example Time!**"
   ]
  },
  {
   "cell_type": "code",
   "execution_count": 15,
   "metadata": {
    "collapsed": false
   },
   "outputs": [
    {
     "name": "stdout",
     "output_type": "stream",
     "text": [
      "                                                 name      age\n",
      "0                       Allen, Miss. Elisabeth Walton  29.0000\n",
      "1                      Allison, Master. Hudson Trevor   0.9167\n",
      "5                                 Anderson, Mr. Harry  48.0000\n",
      "6                   Andrews, Miss. Kornelia Theodosia  63.0000\n",
      "8       Appleton, Mrs. Edward Dale (Charlotte Lamson)  53.0000\n",
      "11  Astor, Mrs. John Jacob (Madeleine Talmadge Force)  18.0000\n",
      "12                      Aubart, Mme. Leontine Pauline  24.0000\n",
      "13                       Barber, Miss. Ellen \"Nellie\"  26.0000\n",
      "14               Barkworth, Mr. Algernon Henry Wilson  80.0000\n",
      "17    Baxter, Mrs. James (Helene DeLaudeniere Chaput)  50.0000\n"
     ]
    }
   ],
   "source": [
    "filtered_1=variable1[[\"name\",\"age\"]][variable1[\"survived\"]==1]\n",
    "print(filtered_1.head(10))# The Dataset is huge, so we are looking the top 10 entries"
   ]
  },
  {
   "cell_type": "markdown",
   "metadata": {},
   "source": [
    "## FillNaN\n",
    "In real life Datasets, There are cases, where some of the entries are missing. For Example: In our dataset, there are places where the Parchment number of the victims are not present, and those places are filled with a special numerical value, called NaN (Not a Number). These NaNs cannot help in performing any Mathematical operation, so our AI model will suddenly crashed if these NaNs are not removed.\n",
    "** Solution 1: ** Wite an Program which will loop through all elements and replace these NaNs with any number we wish (generally 0)\n",
    "\n",
    "** PS: We Are Lazy! Aren't We?. And the best part, Pandas Knows it! **\n",
    "So we have this amazing function which helps us get our job done! ;)\n",
    "Let me show you an example:"
   ]
  },
  {
   "cell_type": "code",
   "execution_count": 16,
   "metadata": {
    "collapsed": false
   },
   "outputs": [
    {
     "name": "stdout",
     "output_type": "stream",
     "text": [
      "   pclass  survived                                             name     sex  \\\n",
      "0       1         1                    Allen, Miss. Elisabeth Walton  female   \n",
      "1       1         1                   Allison, Master. Hudson Trevor    male   \n",
      "2       1         0                     Allison, Miss. Helen Loraine  female   \n",
      "3       1         0             Allison, Mr. Hudson Joshua Creighton    male   \n",
      "4       1         0  Allison, Mrs. Hudson J C (Bessie Waldo Daniels)  female   \n",
      "5       1         1                              Anderson, Mr. Harry    male   \n",
      "6       1         1                Andrews, Miss. Kornelia Theodosia  female   \n",
      "7       1         0                           Andrews, Mr. Thomas Jr    male   \n",
      "8       1         1    Appleton, Mrs. Edward Dale (Charlotte Lamson)  female   \n",
      "9       1         0                          Artagaveytia, Mr. Ramon    male   \n",
      "\n",
      "       age  sibsp  parch    ticket      fare    cabin embarked boat   body  \\\n",
      "0  29.0000      0      0     24160  211.3375       B5        S    2    NaN   \n",
      "1   0.9167      1      2    113781  151.5500  C22 C26        S   11    NaN   \n",
      "2   2.0000      1      2    113781  151.5500  C22 C26        S  NaN    NaN   \n",
      "3  30.0000      1      2    113781  151.5500  C22 C26        S  NaN  135.0   \n",
      "4  25.0000      1      2    113781  151.5500  C22 C26        S  NaN    NaN   \n",
      "5  48.0000      0      0     19952   26.5500      E12        S    3    NaN   \n",
      "6  63.0000      1      0     13502   77.9583       D7        S   10    NaN   \n",
      "7  39.0000      0      0    112050    0.0000      A36        S  NaN    NaN   \n",
      "8  53.0000      2      0     11769   51.4792     C101        S    D    NaN   \n",
      "9  71.0000      0      0  PC 17609   49.5042      NaN        C  NaN   22.0   \n",
      "\n",
      "                         home.dest  \n",
      "0                     St Louis, MO  \n",
      "1  Montreal, PQ / Chesterville, ON  \n",
      "2  Montreal, PQ / Chesterville, ON  \n",
      "3  Montreal, PQ / Chesterville, ON  \n",
      "4  Montreal, PQ / Chesterville, ON  \n",
      "5                     New York, NY  \n",
      "6                       Hudson, NY  \n",
      "7                      Belfast, NI  \n",
      "8              Bayside, Queens, NY  \n",
      "9              Montevideo, Uruguay  \n"
     ]
    }
   ],
   "source": [
    "print(variable1.head(10))"
   ]
  },
  {
   "cell_type": "markdown",
   "metadata": {},
   "source": [
    "Can You see those Vacant Places?? (Filled with NaN)\n",
    "Let's fill those holes!"
   ]
  },
  {
   "cell_type": "code",
   "execution_count": 17,
   "metadata": {
    "collapsed": false
   },
   "outputs": [
    {
     "name": "stdout",
     "output_type": "stream",
     "text": [
      "      pclass  survived                                               name  \\\n",
      "0          1         1                      Allen, Miss. Elisabeth Walton   \n",
      "1          1         1                     Allison, Master. Hudson Trevor   \n",
      "2          1         0                       Allison, Miss. Helen Loraine   \n",
      "3          1         0               Allison, Mr. Hudson Joshua Creighton   \n",
      "4          1         0    Allison, Mrs. Hudson J C (Bessie Waldo Daniels)   \n",
      "5          1         1                                Anderson, Mr. Harry   \n",
      "6          1         1                  Andrews, Miss. Kornelia Theodosia   \n",
      "7          1         0                             Andrews, Mr. Thomas Jr   \n",
      "8          1         1      Appleton, Mrs. Edward Dale (Charlotte Lamson)   \n",
      "9          1         0                            Artagaveytia, Mr. Ramon   \n",
      "10         1         0                             Astor, Col. John Jacob   \n",
      "11         1         1  Astor, Mrs. John Jacob (Madeleine Talmadge Force)   \n",
      "12         1         1                      Aubart, Mme. Leontine Pauline   \n",
      "13         1         1                       Barber, Miss. Ellen \"Nellie\"   \n",
      "14         1         1               Barkworth, Mr. Algernon Henry Wilson   \n",
      "15         1         0                                Baumann, Mr. John D   \n",
      "16         1         0                           Baxter, Mr. Quigg Edmond   \n",
      "17         1         1    Baxter, Mrs. James (Helene DeLaudeniere Chaput)   \n",
      "18         1         1                              Bazzani, Miss. Albina   \n",
      "19         1         0                               Beattie, Mr. Thomson   \n",
      "20         1         1                      Beckwith, Mr. Richard Leonard   \n",
      "21         1         1   Beckwith, Mrs. Richard Leonard (Sallie Monypeny)   \n",
      "22         1         1                              Behr, Mr. Karl Howell   \n",
      "23         1         1                              Bidois, Miss. Rosalie   \n",
      "24         1         1                                  Bird, Miss. Ellen   \n",
      "25         1         0                                Birnbaum, Mr. Jakob   \n",
      "26         1         1                            Bishop, Mr. Dickinson H   \n",
      "27         1         1            Bishop, Mrs. Dickinson H (Helen Walton)   \n",
      "28         1         1                             Bissette, Miss. Amelia   \n",
      "29         1         1          Bjornstrom-Steffansson, Mr. Mauritz Hakan   \n",
      "...      ...       ...                                                ...   \n",
      "1279       3         0               Vestrom, Miss. Hulda Amanda Adolfina   \n",
      "1280       3         0                                    Vovk, Mr. Janko   \n",
      "1281       3         0                               Waelens, Mr. Achille   \n",
      "1282       3         0                                Ware, Mr. Frederick   \n",
      "1283       3         0                        Warren, Mr. Charles William   \n",
      "1284       3         0                                  Webber, Mr. James   \n",
      "1285       3         0                                Wenzel, Mr. Linhart   \n",
      "1286       3         1    Whabee, Mrs. George Joseph (Shawneene Abi-Saab)   \n",
      "1287       3         0                   Widegren, Mr. Carl/Charles Peter   \n",
      "1288       3         0                          Wiklund, Mr. Jakob Alfred   \n",
      "1289       3         0                            Wiklund, Mr. Karl Johan   \n",
      "1290       3         1                   Wilkes, Mrs. James (Ellen Needs)   \n",
      "1291       3         0                   Willer, Mr. Aaron (\"Abi Weller\")   \n",
      "1292       3         0                                 Willey, Mr. Edward   \n",
      "1293       3         0                  Williams, Mr. Howard Hugh \"Harry\"   \n",
      "1294       3         0                               Williams, Mr. Leslie   \n",
      "1295       3         0                                Windelov, Mr. Einar   \n",
      "1296       3         0                                   Wirz, Mr. Albert   \n",
      "1297       3         0                             Wiseman, Mr. Phillippe   \n",
      "1298       3         0                          Wittevrongel, Mr. Camille   \n",
      "1299       3         0                                Yasbeck, Mr. Antoni   \n",
      "1300       3         1            Yasbeck, Mrs. Antoni (Selini Alexander)   \n",
      "1301       3         0                               Youseff, Mr. Gerious   \n",
      "1302       3         0                                  Yousif, Mr. Wazli   \n",
      "1303       3         0                              Yousseff, Mr. Gerious   \n",
      "1304       3         0                               Zabour, Miss. Hileni   \n",
      "1305       3         0                              Zabour, Miss. Thamine   \n",
      "1306       3         0                          Zakarian, Mr. Mapriededer   \n",
      "1307       3         0                                Zakarian, Mr. Ortin   \n",
      "1308       3         0                                 Zimmerman, Mr. Leo   \n",
      "\n",
      "         sex      age  sibsp  parch            ticket      fare    cabin  \\\n",
      "0     female  29.0000      0      0             24160  211.3375       B5   \n",
      "1       male   0.9167      1      2            113781  151.5500  C22 C26   \n",
      "2     female   2.0000      1      2            113781  151.5500  C22 C26   \n",
      "3       male  30.0000      1      2            113781  151.5500  C22 C26   \n",
      "4     female  25.0000      1      2            113781  151.5500  C22 C26   \n",
      "5       male  48.0000      0      0             19952   26.5500      E12   \n",
      "6     female  63.0000      1      0             13502   77.9583       D7   \n",
      "7       male  39.0000      0      0            112050    0.0000      A36   \n",
      "8     female  53.0000      2      0             11769   51.4792     C101   \n",
      "9       male  71.0000      0      0          PC 17609   49.5042        0   \n",
      "10      male  47.0000      1      0          PC 17757  227.5250  C62 C64   \n",
      "11    female  18.0000      1      0          PC 17757  227.5250  C62 C64   \n",
      "12    female  24.0000      0      0          PC 17477   69.3000      B35   \n",
      "13    female  26.0000      0      0             19877   78.8500        0   \n",
      "14      male  80.0000      0      0             27042   30.0000      A23   \n",
      "15      male   0.0000      0      0          PC 17318   25.9250        0   \n",
      "16      male  24.0000      0      1          PC 17558  247.5208  B58 B60   \n",
      "17    female  50.0000      0      1          PC 17558  247.5208  B58 B60   \n",
      "18    female  32.0000      0      0             11813   76.2917      D15   \n",
      "19      male  36.0000      0      0             13050   75.2417       C6   \n",
      "20      male  37.0000      1      1             11751   52.5542      D35   \n",
      "21    female  47.0000      1      1             11751   52.5542      D35   \n",
      "22      male  26.0000      0      0            111369   30.0000     C148   \n",
      "23    female  42.0000      0      0          PC 17757  227.5250        0   \n",
      "24    female  29.0000      0      0          PC 17483  221.7792      C97   \n",
      "25      male  25.0000      0      0             13905   26.0000        0   \n",
      "26      male  25.0000      1      0             11967   91.0792      B49   \n",
      "27    female  19.0000      1      0             11967   91.0792      B49   \n",
      "28    female  35.0000      0      0          PC 17760  135.6333      C99   \n",
      "29      male  28.0000      0      0            110564   26.5500      C52   \n",
      "...      ...      ...    ...    ...               ...       ...      ...   \n",
      "1279  female  14.0000      0      0            350406    7.8542        0   \n",
      "1280    male  22.0000      0      0            349252    7.8958        0   \n",
      "1281    male  22.0000      0      0            345767    9.0000        0   \n",
      "1282    male   0.0000      0      0            359309    8.0500        0   \n",
      "1283    male   0.0000      0      0        C.A. 49867    7.5500        0   \n",
      "1284    male   0.0000      0      0  SOTON/OQ 3101316    8.0500        0   \n",
      "1285    male  32.5000      0      0            345775    9.5000        0   \n",
      "1286  female  38.0000      0      0              2688    7.2292        0   \n",
      "1287    male  51.0000      0      0            347064    7.7500        0   \n",
      "1288    male  18.0000      1      0           3101267    6.4958        0   \n",
      "1289    male  21.0000      1      0           3101266    6.4958        0   \n",
      "1290  female  47.0000      1      0            363272    7.0000        0   \n",
      "1291    male   0.0000      0      0              3410    8.7125        0   \n",
      "1292    male   0.0000      0      0     S.O./P.P. 751    7.5500        0   \n",
      "1293    male   0.0000      0      0          A/5 2466    8.0500        0   \n",
      "1294    male  28.5000      0      0             54636   16.1000        0   \n",
      "1295    male  21.0000      0      0  SOTON/OQ 3101317    7.2500        0   \n",
      "1296    male  27.0000      0      0            315154    8.6625        0   \n",
      "1297    male   0.0000      0      0        A/4. 34244    7.2500        0   \n",
      "1298    male  36.0000      0      0            345771    9.5000        0   \n",
      "1299    male  27.0000      1      0              2659   14.4542        0   \n",
      "1300  female  15.0000      1      0              2659   14.4542        0   \n",
      "1301    male  45.5000      0      0              2628    7.2250        0   \n",
      "1302    male   0.0000      0      0              2647    7.2250        0   \n",
      "1303    male   0.0000      0      0              2627   14.4583        0   \n",
      "1304  female  14.5000      1      0              2665   14.4542        0   \n",
      "1305  female   0.0000      1      0              2665   14.4542        0   \n",
      "1306    male  26.5000      0      0              2656    7.2250        0   \n",
      "1307    male  27.0000      0      0              2670    7.2250        0   \n",
      "1308    male  29.0000      0      0            315082    7.8750        0   \n",
      "\n",
      "     embarked boat   body                           home.dest  \n",
      "0           S    2    0.0                        St Louis, MO  \n",
      "1           S   11    0.0     Montreal, PQ / Chesterville, ON  \n",
      "2           S    0    0.0     Montreal, PQ / Chesterville, ON  \n",
      "3           S    0  135.0     Montreal, PQ / Chesterville, ON  \n",
      "4           S    0    0.0     Montreal, PQ / Chesterville, ON  \n",
      "5           S    3    0.0                        New York, NY  \n",
      "6           S   10    0.0                          Hudson, NY  \n",
      "7           S    0    0.0                         Belfast, NI  \n",
      "8           S    D    0.0                 Bayside, Queens, NY  \n",
      "9           C    0   22.0                 Montevideo, Uruguay  \n",
      "10          C    0  124.0                        New York, NY  \n",
      "11          C    4    0.0                        New York, NY  \n",
      "12          C    9    0.0                       Paris, France  \n",
      "13          S    6    0.0                                   0  \n",
      "14          S    B    0.0                       Hessle, Yorks  \n",
      "15          S    0    0.0                        New York, NY  \n",
      "16          C    0    0.0                        Montreal, PQ  \n",
      "17          C    6    0.0                        Montreal, PQ  \n",
      "18          C    8    0.0                                   0  \n",
      "19          C    A    0.0                        Winnipeg, MN  \n",
      "20          S    5    0.0                        New York, NY  \n",
      "21          S    5    0.0                        New York, NY  \n",
      "22          C    5    0.0                        New York, NY  \n",
      "23          C    4    0.0                                   0  \n",
      "24          S    8    0.0                                   0  \n",
      "25          C    0  148.0                   San Francisco, CA  \n",
      "26          C    7    0.0                        Dowagiac, MI  \n",
      "27          C    7    0.0                        Dowagiac, MI  \n",
      "28          S    8    0.0                                   0  \n",
      "29          S    D    0.0  Stockholm, Sweden / Washington, DC  \n",
      "...       ...  ...    ...                                 ...  \n",
      "1279        S    0    0.0                                   0  \n",
      "1280        S    0    0.0                                   0  \n",
      "1281        S    0    0.0      Antwerp, Belgium / Stanton, OH  \n",
      "1282        S    0    0.0                                   0  \n",
      "1283        S    0    0.0                                   0  \n",
      "1284        S    0    0.0                                   0  \n",
      "1285        S    0  298.0                                   0  \n",
      "1286        C    C    0.0                                   0  \n",
      "1287        S    0    0.0                                   0  \n",
      "1288        S    0  314.0                                   0  \n",
      "1289        S    0    0.0                                   0  \n",
      "1290        S    0    0.0                                   0  \n",
      "1291        S    0    0.0                                   0  \n",
      "1292        S    0    0.0                                   0  \n",
      "1293        S    0    0.0                                   0  \n",
      "1294        S    0   14.0                                   0  \n",
      "1295        S    0    0.0                                   0  \n",
      "1296        S    0  131.0                                   0  \n",
      "1297        S    0    0.0                                   0  \n",
      "1298        S    0    0.0                                   0  \n",
      "1299        C    C    0.0                                   0  \n",
      "1300        C    0    0.0                                   0  \n",
      "1301        C    0  312.0                                   0  \n",
      "1302        C    0    0.0                                   0  \n",
      "1303        C    0    0.0                                   0  \n",
      "1304        C    0  328.0                                   0  \n",
      "1305        C    0    0.0                                   0  \n",
      "1306        C    0  304.0                                   0  \n",
      "1307        C    0    0.0                                   0  \n",
      "1308        S    0    0.0                                   0  \n",
      "\n",
      "[1309 rows x 14 columns]\n"
     ]
    }
   ],
   "source": [
    "variable1.fillna(0,inplace=True)\n",
    "print(variable1)"
   ]
  },
  {
   "cell_type": "markdown",
   "metadata": {},
   "source": [
    "**Can You Spot the difference now?**\n",
    "\n",
    "`.fillna()` takes one argument, the value to fill the vacant places with. `inplace=True` is used to make the changes in `variable1` instead of keeping it unmodified and returning a modified DataFrame."
   ]
  },
  {
   "cell_type": "markdown",
   "metadata": {},
   "source": [
    "# DataFrame.apply in Pandas\n",
    "\n",
    "There might be cases where you want to apply some function to all the Values of a Column. Like,for example, you might wanna create another column, where you want to store the length of the name of the passengers. For that we need to loop through all the elements, That's a whole lot of job to do! We would really prefer if something ready made is available.. ;)\n",
    "\n",
    "To our utter surprise, Pandas developer team figured it out already that, we might look for such a thing some day. So they created the `.apply()` function on the `DataFrame` object, which helo us apply a function to all the elements in a column(s).\n",
    "\n",
    "Let me show you how to solve this problem using `.apply()` function."
   ]
  },
  {
   "cell_type": "code",
   "execution_count": 18,
   "metadata": {
    "collapsed": false
   },
   "outputs": [
    {
     "name": "stdout",
     "output_type": "stream",
     "text": [
      "      pclass  survived                                               name  \\\n",
      "0          1         1                      Allen, Miss. Elisabeth Walton   \n",
      "1          1         1                     Allison, Master. Hudson Trevor   \n",
      "2          1         0                       Allison, Miss. Helen Loraine   \n",
      "3          1         0               Allison, Mr. Hudson Joshua Creighton   \n",
      "4          1         0    Allison, Mrs. Hudson J C (Bessie Waldo Daniels)   \n",
      "5          1         1                                Anderson, Mr. Harry   \n",
      "6          1         1                  Andrews, Miss. Kornelia Theodosia   \n",
      "7          1         0                             Andrews, Mr. Thomas Jr   \n",
      "8          1         1      Appleton, Mrs. Edward Dale (Charlotte Lamson)   \n",
      "9          1         0                            Artagaveytia, Mr. Ramon   \n",
      "10         1         0                             Astor, Col. John Jacob   \n",
      "11         1         1  Astor, Mrs. John Jacob (Madeleine Talmadge Force)   \n",
      "12         1         1                      Aubart, Mme. Leontine Pauline   \n",
      "13         1         1                       Barber, Miss. Ellen \"Nellie\"   \n",
      "14         1         1               Barkworth, Mr. Algernon Henry Wilson   \n",
      "15         1         0                                Baumann, Mr. John D   \n",
      "16         1         0                           Baxter, Mr. Quigg Edmond   \n",
      "17         1         1    Baxter, Mrs. James (Helene DeLaudeniere Chaput)   \n",
      "18         1         1                              Bazzani, Miss. Albina   \n",
      "19         1         0                               Beattie, Mr. Thomson   \n",
      "20         1         1                      Beckwith, Mr. Richard Leonard   \n",
      "21         1         1   Beckwith, Mrs. Richard Leonard (Sallie Monypeny)   \n",
      "22         1         1                              Behr, Mr. Karl Howell   \n",
      "23         1         1                              Bidois, Miss. Rosalie   \n",
      "24         1         1                                  Bird, Miss. Ellen   \n",
      "25         1         0                                Birnbaum, Mr. Jakob   \n",
      "26         1         1                            Bishop, Mr. Dickinson H   \n",
      "27         1         1            Bishop, Mrs. Dickinson H (Helen Walton)   \n",
      "28         1         1                             Bissette, Miss. Amelia   \n",
      "29         1         1          Bjornstrom-Steffansson, Mr. Mauritz Hakan   \n",
      "...      ...       ...                                                ...   \n",
      "1279       3         0               Vestrom, Miss. Hulda Amanda Adolfina   \n",
      "1280       3         0                                    Vovk, Mr. Janko   \n",
      "1281       3         0                               Waelens, Mr. Achille   \n",
      "1282       3         0                                Ware, Mr. Frederick   \n",
      "1283       3         0                        Warren, Mr. Charles William   \n",
      "1284       3         0                                  Webber, Mr. James   \n",
      "1285       3         0                                Wenzel, Mr. Linhart   \n",
      "1286       3         1    Whabee, Mrs. George Joseph (Shawneene Abi-Saab)   \n",
      "1287       3         0                   Widegren, Mr. Carl/Charles Peter   \n",
      "1288       3         0                          Wiklund, Mr. Jakob Alfred   \n",
      "1289       3         0                            Wiklund, Mr. Karl Johan   \n",
      "1290       3         1                   Wilkes, Mrs. James (Ellen Needs)   \n",
      "1291       3         0                   Willer, Mr. Aaron (\"Abi Weller\")   \n",
      "1292       3         0                                 Willey, Mr. Edward   \n",
      "1293       3         0                  Williams, Mr. Howard Hugh \"Harry\"   \n",
      "1294       3         0                               Williams, Mr. Leslie   \n",
      "1295       3         0                                Windelov, Mr. Einar   \n",
      "1296       3         0                                   Wirz, Mr. Albert   \n",
      "1297       3         0                             Wiseman, Mr. Phillippe   \n",
      "1298       3         0                          Wittevrongel, Mr. Camille   \n",
      "1299       3         0                                Yasbeck, Mr. Antoni   \n",
      "1300       3         1            Yasbeck, Mrs. Antoni (Selini Alexander)   \n",
      "1301       3         0                               Youseff, Mr. Gerious   \n",
      "1302       3         0                                  Yousif, Mr. Wazli   \n",
      "1303       3         0                              Yousseff, Mr. Gerious   \n",
      "1304       3         0                               Zabour, Miss. Hileni   \n",
      "1305       3         0                              Zabour, Miss. Thamine   \n",
      "1306       3         0                          Zakarian, Mr. Mapriededer   \n",
      "1307       3         0                                Zakarian, Mr. Ortin   \n",
      "1308       3         0                                 Zimmerman, Mr. Leo   \n",
      "\n",
      "         sex      age  sibsp  parch            ticket      fare    cabin  \\\n",
      "0     female  29.0000      0      0             24160  211.3375       B5   \n",
      "1       male   0.9167      1      2            113781  151.5500  C22 C26   \n",
      "2     female   2.0000      1      2            113781  151.5500  C22 C26   \n",
      "3       male  30.0000      1      2            113781  151.5500  C22 C26   \n",
      "4     female  25.0000      1      2            113781  151.5500  C22 C26   \n",
      "5       male  48.0000      0      0             19952   26.5500      E12   \n",
      "6     female  63.0000      1      0             13502   77.9583       D7   \n",
      "7       male  39.0000      0      0            112050    0.0000      A36   \n",
      "8     female  53.0000      2      0             11769   51.4792     C101   \n",
      "9       male  71.0000      0      0          PC 17609   49.5042        0   \n",
      "10      male  47.0000      1      0          PC 17757  227.5250  C62 C64   \n",
      "11    female  18.0000      1      0          PC 17757  227.5250  C62 C64   \n",
      "12    female  24.0000      0      0          PC 17477   69.3000      B35   \n",
      "13    female  26.0000      0      0             19877   78.8500        0   \n",
      "14      male  80.0000      0      0             27042   30.0000      A23   \n",
      "15      male   0.0000      0      0          PC 17318   25.9250        0   \n",
      "16      male  24.0000      0      1          PC 17558  247.5208  B58 B60   \n",
      "17    female  50.0000      0      1          PC 17558  247.5208  B58 B60   \n",
      "18    female  32.0000      0      0             11813   76.2917      D15   \n",
      "19      male  36.0000      0      0             13050   75.2417       C6   \n",
      "20      male  37.0000      1      1             11751   52.5542      D35   \n",
      "21    female  47.0000      1      1             11751   52.5542      D35   \n",
      "22      male  26.0000      0      0            111369   30.0000     C148   \n",
      "23    female  42.0000      0      0          PC 17757  227.5250        0   \n",
      "24    female  29.0000      0      0          PC 17483  221.7792      C97   \n",
      "25      male  25.0000      0      0             13905   26.0000        0   \n",
      "26      male  25.0000      1      0             11967   91.0792      B49   \n",
      "27    female  19.0000      1      0             11967   91.0792      B49   \n",
      "28    female  35.0000      0      0          PC 17760  135.6333      C99   \n",
      "29      male  28.0000      0      0            110564   26.5500      C52   \n",
      "...      ...      ...    ...    ...               ...       ...      ...   \n",
      "1279  female  14.0000      0      0            350406    7.8542        0   \n",
      "1280    male  22.0000      0      0            349252    7.8958        0   \n",
      "1281    male  22.0000      0      0            345767    9.0000        0   \n",
      "1282    male   0.0000      0      0            359309    8.0500        0   \n",
      "1283    male   0.0000      0      0        C.A. 49867    7.5500        0   \n",
      "1284    male   0.0000      0      0  SOTON/OQ 3101316    8.0500        0   \n",
      "1285    male  32.5000      0      0            345775    9.5000        0   \n",
      "1286  female  38.0000      0      0              2688    7.2292        0   \n",
      "1287    male  51.0000      0      0            347064    7.7500        0   \n",
      "1288    male  18.0000      1      0           3101267    6.4958        0   \n",
      "1289    male  21.0000      1      0           3101266    6.4958        0   \n",
      "1290  female  47.0000      1      0            363272    7.0000        0   \n",
      "1291    male   0.0000      0      0              3410    8.7125        0   \n",
      "1292    male   0.0000      0      0     S.O./P.P. 751    7.5500        0   \n",
      "1293    male   0.0000      0      0          A/5 2466    8.0500        0   \n",
      "1294    male  28.5000      0      0             54636   16.1000        0   \n",
      "1295    male  21.0000      0      0  SOTON/OQ 3101317    7.2500        0   \n",
      "1296    male  27.0000      0      0            315154    8.6625        0   \n",
      "1297    male   0.0000      0      0        A/4. 34244    7.2500        0   \n",
      "1298    male  36.0000      0      0            345771    9.5000        0   \n",
      "1299    male  27.0000      1      0              2659   14.4542        0   \n",
      "1300  female  15.0000      1      0              2659   14.4542        0   \n",
      "1301    male  45.5000      0      0              2628    7.2250        0   \n",
      "1302    male   0.0000      0      0              2647    7.2250        0   \n",
      "1303    male   0.0000      0      0              2627   14.4583        0   \n",
      "1304  female  14.5000      1      0              2665   14.4542        0   \n",
      "1305  female   0.0000      1      0              2665   14.4542        0   \n",
      "1306    male  26.5000      0      0              2656    7.2250        0   \n",
      "1307    male  27.0000      0      0              2670    7.2250        0   \n",
      "1308    male  29.0000      0      0            315082    7.8750        0   \n",
      "\n",
      "     embarked boat   body                           home.dest  Column_1  \n",
      "0           S    2    0.0                        St Louis, MO        29  \n",
      "1           S   11    0.0     Montreal, PQ / Chesterville, ON        30  \n",
      "2           S    0    0.0     Montreal, PQ / Chesterville, ON        28  \n",
      "3           S    0  135.0     Montreal, PQ / Chesterville, ON        36  \n",
      "4           S    0    0.0     Montreal, PQ / Chesterville, ON        47  \n",
      "5           S    3    0.0                        New York, NY        19  \n",
      "6           S   10    0.0                          Hudson, NY        33  \n",
      "7           S    0    0.0                         Belfast, NI        22  \n",
      "8           S    D    0.0                 Bayside, Queens, NY        45  \n",
      "9           C    0   22.0                 Montevideo, Uruguay        23  \n",
      "10          C    0  124.0                        New York, NY        22  \n",
      "11          C    4    0.0                        New York, NY        49  \n",
      "12          C    9    0.0                       Paris, France        29  \n",
      "13          S    6    0.0                                   0        28  \n",
      "14          S    B    0.0                       Hessle, Yorks        36  \n",
      "15          S    0    0.0                        New York, NY        19  \n",
      "16          C    0    0.0                        Montreal, PQ        24  \n",
      "17          C    6    0.0                        Montreal, PQ        47  \n",
      "18          C    8    0.0                                   0        21  \n",
      "19          C    A    0.0                        Winnipeg, MN        20  \n",
      "20          S    5    0.0                        New York, NY        29  \n",
      "21          S    5    0.0                        New York, NY        48  \n",
      "22          C    5    0.0                        New York, NY        21  \n",
      "23          C    4    0.0                                   0        21  \n",
      "24          S    8    0.0                                   0        17  \n",
      "25          C    0  148.0                   San Francisco, CA        19  \n",
      "26          C    7    0.0                        Dowagiac, MI        23  \n",
      "27          C    7    0.0                        Dowagiac, MI        39  \n",
      "28          S    8    0.0                                   0        22  \n",
      "29          S    D    0.0  Stockholm, Sweden / Washington, DC        41  \n",
      "...       ...  ...    ...                                 ...       ...  \n",
      "1279        S    0    0.0                                   0        36  \n",
      "1280        S    0    0.0                                   0        15  \n",
      "1281        S    0    0.0      Antwerp, Belgium / Stanton, OH        20  \n",
      "1282        S    0    0.0                                   0        19  \n",
      "1283        S    0    0.0                                   0        27  \n",
      "1284        S    0    0.0                                   0        17  \n",
      "1285        S    0  298.0                                   0        19  \n",
      "1286        C    C    0.0                                   0        47  \n",
      "1287        S    0    0.0                                   0        32  \n",
      "1288        S    0  314.0                                   0        25  \n",
      "1289        S    0    0.0                                   0        23  \n",
      "1290        S    0    0.0                                   0        32  \n",
      "1291        S    0    0.0                                   0        32  \n",
      "1292        S    0    0.0                                   0        18  \n",
      "1293        S    0    0.0                                   0        33  \n",
      "1294        S    0   14.0                                   0        20  \n",
      "1295        S    0    0.0                                   0        19  \n",
      "1296        S    0  131.0                                   0        16  \n",
      "1297        S    0    0.0                                   0        22  \n",
      "1298        S    0    0.0                                   0        25  \n",
      "1299        C    C    0.0                                   0        19  \n",
      "1300        C    0    0.0                                   0        39  \n",
      "1301        C    0  312.0                                   0        20  \n",
      "1302        C    0    0.0                                   0        17  \n",
      "1303        C    0    0.0                                   0        21  \n",
      "1304        C    0  328.0                                   0        20  \n",
      "1305        C    0    0.0                                   0        21  \n",
      "1306        C    0  304.0                                   0        25  \n",
      "1307        C    0    0.0                                   0        19  \n",
      "1308        S    0    0.0                                   0        18  \n",
      "\n",
      "[1309 rows x 15 columns]\n"
     ]
    }
   ],
   "source": [
    "temp=variable1[\"name\"].apply(len) #we are applying the len() function of python on the column name\n",
    "variable1[\"Column_1\"]=temp #This line creates a new column named as \"Column_1\" in the pandas.DataFrame\n",
    "print variable1"
   ]
  },
  {
   "cell_type": "markdown",
   "metadata": {},
   "source": [
    "# Numpy"
   ]
  },
  {
   "cell_type": "markdown",
   "metadata": {},
   "source": [
    "Remember those times, when we had to write for loops in C while performing matrix calculation? Aargh! I hated to write ~20 lines for performing matrix multiplications/addition/substraction.\n",
    "So for us Lazy People, There's this awesome Library in Python known as **Numpy** which stands for Numeric Python.\n",
    "\n",
    "\n",
    "Numpy can perform a whole lot of functions,but it's speciality stands out in it's extremely easy interface for performing operations on matrix and numeric arrays.\n",
    "\n",
    "### Ok, how to use it??\n",
    "To use it you need to install it first. The following code cell can help you with that."
   ]
  },
  {
   "cell_type": "code",
   "execution_count": 19,
   "metadata": {
    "collapsed": false
   },
   "outputs": [
    {
     "name": "stdout",
     "output_type": "stream",
     "text": [
      "Requirement already satisfied: numpy in /usr/local/lib/python2.7/dist-packages (1.15.0)\r\n"
     ]
    }
   ],
   "source": [
    "! pip install numpy"
   ]
  },
  {
   "cell_type": "markdown",
   "metadata": {},
   "source": [
    "**Okay that was easy!**\n",
    "\n",
    "Now how to use this? AKA, **Adrish Show me some Magic!**"
   ]
  },
  {
   "cell_type": "markdown",
   "metadata": {},
   "source": [
    "But we need to import it first right? :)"
   ]
  },
  {
   "cell_type": "code",
   "execution_count": 20,
   "metadata": {
    "collapsed": true
   },
   "outputs": [],
   "source": [
    "import numpy as np # Okay! Don't judge me, I'm lazy"
   ]
  },
  {
   "cell_type": "code",
   "execution_count": 21,
   "metadata": {
    "collapsed": false
   },
   "outputs": [
    {
     "name": "stdout",
     "output_type": "stream",
     "text": [
      "[2 3 4 5 6 7]\n",
      "[0 1 2 3 4 5]\n",
      "[1 2 3 4 5 6]\n",
      "[0 1 1 2 2 3]\n"
     ]
    }
   ],
   "source": [
    "array1=np.array([1,2,3,4,5,6])\n",
    "array2=np.array([1]*6) # You can do this, to flaunt your lazy nature, this [1]*6 creates a list of 6, 1s, [1,1,1,1,1,1]\n",
    "#Adding 2 numbers\n",
    "print(array1+array2) #See that was easy!!!!!!!\n",
    "print(array1-array2) # EEEEAAASSSYYYYY!!!!!!\n",
    "print(array1*array2) #Perform element wise multiplication: That was easy too!\n",
    "print(array1/(2*array2)) # You can even multiply a scalar like 2 with array2, with no extra headache.. and you can divide it.. just like numbers\n"
   ]
  },
  {
   "cell_type": "markdown",
   "metadata": {},
   "source": [
    "There a **LOT** more numpy and pandas, but this much is enough for Project 1."
   ]
  }
 ],
 "metadata": {
  "kernelspec": {
   "display_name": "Python 2",
   "language": "python",
   "name": "python2"
  },
  "language_info": {
   "codemirror_mode": {
    "name": "ipython",
    "version": 2
   },
   "file_extension": ".py",
   "mimetype": "text/x-python",
   "name": "python",
   "nbconvert_exporter": "python",
   "pygments_lexer": "ipython2",
   "version": "2.7.6"
  }
 },
 "nbformat": 4,
 "nbformat_minor": 0
}
